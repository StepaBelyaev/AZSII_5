{
  "nbformat": 4,
  "nbformat_minor": 0,
  "metadata": {
    "colab": {
      "provenance": []
    },
    "kernelspec": {
      "name": "python3",
      "display_name": "Python 3"
    },
    "language_info": {
      "name": "python"
    }
  },
  "cells": [
    {
      "cell_type": "markdown",
      "source": [
        "Выполнил:\n",
        "Беляев Степан Константинович"
      ],
      "metadata": {
        "id": "GKbKMzEHUJ--"
      }
    },
    {
      "cell_type": "markdown",
      "source": [
        "#  Практика 4: Атака DeepLift на модели ИИ\n",
        "\n"
      ],
      "metadata": {
        "id": "8OOg9ScdULYk"
      }
    },
    {
      "cell_type": "markdown",
      "source": [
        "## Шаг 1: Загрузка обученной модели и данных MNIST"
      ],
      "metadata": {
        "id": "DTNR6cAxUS0z"
      }
    },
    {
      "cell_type": "code",
      "source": [
        "import tensorflow as tf\n",
        "from tensorflow.keras.datasets import mnist\n",
        "from tensorflow.keras.utils import to_categorical\n",
        "\n",
        "# Загрузка тестовых данных MNIST\n",
        "(_, _), (test_images, test_labels) = mnist.load_data()\n",
        "\n",
        "# Нормализация данных\n",
        "test_images = test_images / 255.0\n",
        "\n",
        "# Преобразование меток в формат one-hot\n",
        "test_labels = to_categorical(test_labels, num_classes=10)\n",
        "\n",
        "# Загрузка обученной модели\n",
        "model = tf.keras.models.load_model('mnist_model.h5')\n",
        "\n",
        "# Проверка точности модели на обычных данных\n",
        "test_loss, test_acc = model.evaluate(test_images, test_labels)\n",
        "print(f'Test accuracy on clean images: {test_acc}')"
      ],
      "metadata": {
        "colab": {
          "base_uri": "https://localhost:8080/"
        },
        "id": "27vxQP6sUSiH",
        "outputId": "4e1822b1-0eec-4f5f-a3ad-1442c9e74899"
      },
      "execution_count": 1,
      "outputs": [
        {
          "output_type": "stream",
          "name": "stdout",
          "text": [
            "Downloading data from https://storage.googleapis.com/tensorflow/tf-keras-datasets/mnist.npz\n",
            "\u001b[1m11490434/11490434\u001b[0m \u001b[32m━━━━━━━━━━━━━━━━━━━━\u001b[0m\u001b[37m\u001b[0m \u001b[1m0s\u001b[0m 0us/step\n"
          ]
        },
        {
          "output_type": "stream",
          "name": "stderr",
          "text": [
            "WARNING:absl:Compiled the loaded model, but the compiled metrics have yet to be built. `model.compile_metrics` will be empty until you train or evaluate the model.\n"
          ]
        },
        {
          "output_type": "stream",
          "name": "stdout",
          "text": [
            "\u001b[1m313/313\u001b[0m \u001b[32m━━━━━━━━━━━━━━━━━━━━\u001b[0m\u001b[37m\u001b[0m \u001b[1m1s\u001b[0m 1ms/step - accuracy: 0.9738 - loss: 0.0893\n",
            "Test accuracy on clean images: 0.9767000079154968\n"
          ]
        }
      ]
    },
    {
      "cell_type": "markdown",
      "source": [
        "## Шаг 2: Теория атаки PGD\n"
      ],
      "metadata": {
        "id": "gQ3lmunFVBr1"
      }
    },
    {
      "cell_type": "markdown",
      "source": [
        "Projected Gradient Descent (PGD) — это итеративный метод, используемый в состязательном машинном обучении для создания состязательных примеров. Это входные данные для моделей машинного обучения, которые злоумышленник намеренно разрабатывает, чтобы модель сделала ошибку. Заключается он в применении небольших, но итеративно регулируемых возмущений к входным данным, направленных на максимизацию ошибки предсказания модели. Злоумышленник может контролировать размер этих возмущений и количество итераций, что позволяет соблюдать баланс между эффективностью состязательных примеров и их незаметностью."
      ],
      "metadata": {
        "id": "Li1O1049VFTk"
      }
    },
    {
      "cell_type": "markdown",
      "source": [
        "## Шаг 3: Реализация атаки PGD с использованием Foolbox"
      ],
      "metadata": {
        "id": "qi1fr19iVHS_"
      }
    },
    {
      "cell_type": "code",
      "source": [
        "# установка Foolbox\n",
        "!pip install foolbox"
      ],
      "metadata": {
        "colab": {
          "base_uri": "https://localhost:8080/"
        },
        "id": "1_ao9bsaULIN",
        "outputId": "1a7677d9-4aba-49f8-d2cc-2818c075da4d"
      },
      "execution_count": 2,
      "outputs": [
        {
          "output_type": "stream",
          "name": "stdout",
          "text": [
            "Collecting foolbox\n",
            "  Downloading foolbox-3.3.4-py3-none-any.whl.metadata (7.3 kB)\n",
            "Requirement already satisfied: numpy in /usr/local/lib/python3.10/dist-packages (from foolbox) (1.26.4)\n",
            "Requirement already satisfied: scipy in /usr/local/lib/python3.10/dist-packages (from foolbox) (1.13.1)\n",
            "Requirement already satisfied: setuptools in /usr/local/lib/python3.10/dist-packages (from foolbox) (75.1.0)\n",
            "Collecting eagerpy>=0.30.0 (from foolbox)\n",
            "  Downloading eagerpy-0.30.0-py3-none-any.whl.metadata (5.5 kB)\n",
            "Requirement already satisfied: GitPython>=3.0.7 in /usr/local/lib/python3.10/dist-packages (from foolbox) (3.1.43)\n",
            "Requirement already satisfied: typing-extensions>=3.7.4.1 in /usr/local/lib/python3.10/dist-packages (from foolbox) (4.12.2)\n",
            "Requirement already satisfied: requests>=2.24.0 in /usr/local/lib/python3.10/dist-packages (from foolbox) (2.32.3)\n",
            "Requirement already satisfied: gitdb<5,>=4.0.1 in /usr/local/lib/python3.10/dist-packages (from GitPython>=3.0.7->foolbox) (4.0.11)\n",
            "Requirement already satisfied: charset-normalizer<4,>=2 in /usr/local/lib/python3.10/dist-packages (from requests>=2.24.0->foolbox) (3.4.0)\n",
            "Requirement already satisfied: idna<4,>=2.5 in /usr/local/lib/python3.10/dist-packages (from requests>=2.24.0->foolbox) (3.10)\n",
            "Requirement already satisfied: urllib3<3,>=1.21.1 in /usr/local/lib/python3.10/dist-packages (from requests>=2.24.0->foolbox) (2.2.3)\n",
            "Requirement already satisfied: certifi>=2017.4.17 in /usr/local/lib/python3.10/dist-packages (from requests>=2.24.0->foolbox) (2024.8.30)\n",
            "Requirement already satisfied: smmap<6,>=3.0.1 in /usr/local/lib/python3.10/dist-packages (from gitdb<5,>=4.0.1->GitPython>=3.0.7->foolbox) (5.0.1)\n",
            "Downloading foolbox-3.3.4-py3-none-any.whl (1.7 MB)\n",
            "\u001b[2K   \u001b[90m━━━━━━━━━━━━━━━━━━━━━━━━━━━━━━━━━━━━━━━━\u001b[0m \u001b[32m1.7/1.7 MB\u001b[0m \u001b[31m26.9 MB/s\u001b[0m eta \u001b[36m0:00:00\u001b[0m\n",
            "\u001b[?25hDownloading eagerpy-0.30.0-py3-none-any.whl (31 kB)\n",
            "Installing collected packages: eagerpy, foolbox\n",
            "Successfully installed eagerpy-0.30.0 foolbox-3.3.4\n"
          ]
        }
      ]
    },
    {
      "cell_type": "code",
      "source": [
        "import foolbox as fb\n",
        "import numpy as np\n",
        "import matplotlib.pyplot as plt\n",
        "import tensorflow as tf\n",
        "import torch\n",
        "import torch.nn as nn"
      ],
      "metadata": {
        "id": "oGVAzBVKVX8F"
      },
      "execution_count": 3,
      "outputs": []
    },
    {
      "cell_type": "code",
      "source": [
        "# Инициализация Foolbox модели\n",
        "fmodel = fb.TensorFlowModel(model, bounds=(-1, 1))\n",
        "\n",
        "# Выбор изображения для атаки (например, первое изображение из тестового набора)\n",
        "image = tf.convert_to_tensor(test_images[1], dtype=tf.float32)[None, ...]  # Добавляем размерность для батча\n",
        "label = np.argmax(test_labels[0])  # Получаем индекс класса\n",
        "label = tf.convert_to_tensor(label, dtype=tf.int64)  # Преобразуем в тензор\n",
        "\n",
        "# Выполнение атаки\n",
        "attack = fb.attacks.LinfPGD()\n",
        "advs, _, success = attack(fmodel, image, label[None], epsilons=0.01)  # Оборачиваем метку в тензор с размерностью (1,)"
      ],
      "metadata": {
        "id": "3n0o6lWIV2dH"
      },
      "execution_count": 13,
      "outputs": []
    },
    {
      "cell_type": "code",
      "source": [
        "# Вывод результатов\n",
        "plt.figure(figsize=(10, 5))\n",
        "plt.subplot(1, 2, 1)\n",
        "plt.title(\"Оригинальное изображение\")\n",
        "plt.imshow(image[0].numpy(), cmap=\"gray\")\n",
        "plt.axis('off')\n",
        "\n",
        "plt.subplot(1, 2, 2)\n",
        "plt.title(\"Противоречивое изображение (PGD)\")\n",
        "plt.imshow(advs[0].numpy(), cmap=\"gray\")  # Предполагается, что advs имеет правильную форму\n",
        "plt.axis('off')\n",
        "\n",
        "plt.show()"
      ],
      "metadata": {
        "id": "WggQREsvV9aJ",
        "colab": {
          "base_uri": "https://localhost:8080/",
          "height": 411
        },
        "outputId": "dcae51c5-cb8e-452f-a2a4-98c90ac40ab2"
      },
      "execution_count": 14,
      "outputs": [
        {
          "output_type": "display_data",
          "data": {
            "text/plain": [
              "<Figure size 1000x500 with 2 Axes>"
            ],
            "image/png": "[encoded data removed]"
          },
          "metadata": {}
        }
      ]
    },
    {
      "cell_type": "markdown",
      "source": [
        "# Шаг 4: Оценка модели на противоречивых примерах"
      ],
      "metadata": {
        "id": "l4KAwDNFZJv8"
      }
    },
    {
      "cell_type": "code",
      "source": [
        "adversarial_images = []\n",
        "# Обработка изображений\n",
        "for i in range(len(test_images) // 10): # ограничил выборку для ускорения выполнения\n",
        "    image = tf.convert_to_tensor(test_images[i], dtype=tf.float32)[None, ...]\n",
        "    label = np.argmax(test_labels[i])\n",
        "    label = tf.convert_to_tensor(label, dtype=tf.int64)\n",
        "    # Атака на изображение\n",
        "    advs, _, success = attack(fmodel, image, label[None], epsilons=0.1)\n",
        "    adversarial_images.append(advs)\n",
        "# Конвертация списка в массив с правильной формой\n",
        "adversarial_images = tf.concat(adversarial_images, axis=0)\n",
        "# Убедитесь, что test_labels имеют соответствующее количество меток\n",
        "adversarial_loss, adversarial_acc = model.evaluate(adversarial_images, test_labels[:1000])\n",
        "print(f'Accuracy on adversarial examples (PGD attack): {adversarial_acc}')"
      ],
      "metadata": {
        "colab": {
          "base_uri": "https://localhost:8080/"
        },
        "id": "GdXSjXuWZLxP",
        "outputId": "e16ef96d-68e4-429f-8040-6734fde6724e"
      },
      "execution_count": 10,
      "outputs": [
        {
          "output_type": "stream",
          "name": "stdout",
          "text": [
            "\u001b[1m32/32\u001b[0m \u001b[32m━━━━━━━━━━━━━━━━━━━━\u001b[0m\u001b[37m\u001b[0m \u001b[1m0s\u001b[0m 1ms/step - accuracy: 0.0081 - loss: 14.1807     \n",
            "Accuracy on adversarial examples (PGD attack): 0.009999999776482582\n"
          ]
        }
      ]
    },
    {
      "cell_type": "markdown",
      "source": [
        "## Вывод"
      ],
      "metadata": {
        "id": "ehIR7OerftC3"
      }
    },
    {
      "cell_type": "markdown",
      "source": [
        "Вывод: Точность снизилась с 97.5% на тестовых изображениях до 0.01% при eps = 0.01 на атакованных, что указывает на уязвимость модели перед PGD. Эта атака, несмотря на итеративный характер, минимальными изменениями значительно снижает точность модели.\n"
      ],
      "metadata": {
        "id": "g-0Jk019fybL"
      }
    },
    {
      "cell_type": "code",
      "source": [],
      "metadata": {
        "id": "BILBF-F3gVaE"
      },
      "execution_count": null,
      "outputs": []
    }
  ]
}